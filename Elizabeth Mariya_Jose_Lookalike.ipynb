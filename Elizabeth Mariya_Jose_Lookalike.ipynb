{
  "nbformat": 4,
  "nbformat_minor": 0,
  "metadata": {
    "colab": {
      "provenance": []
    },
    "kernelspec": {
      "name": "python3",
      "display_name": "Python 3"
    },
    "language_info": {
      "name": "python"
    }
  },
  "cells": [
    {
      "cell_type": "markdown",
      "source": [
        "# **Data Science Assignment Zeotap: eCommerce Transactions Dataset**"
      ],
      "metadata": {
        "id": "P891cICmpzvY"
      }
    },
    {
      "cell_type": "markdown",
      "source": [
        "**Elizabeth Mariya Jose**\n",
        "\n"
      ],
      "metadata": {
        "id": "AM5Q4n-Dpetf"
      }
    },
    {
      "cell_type": "markdown",
      "source": [
        "## **Task 2**"
      ],
      "metadata": {
        "id": "bvjNG55fqCL5"
      }
    },
    {
      "cell_type": "code",
      "execution_count": 1,
      "metadata": {
        "id": "fVvKxgUOb7eb"
      },
      "outputs": [],
      "source": [
        "# Import necessary libraries\n",
        "import pandas as pd\n",
        "from sklearn.preprocessing import StandardScaler\n",
        "from sklearn.metrics.pairwise import cosine_similarity\n",
        "\n"
      ]
    },
    {
      "cell_type": "code",
      "source": [
        "# Load the datasets\n",
        "\n",
        "customers = pd.read_csv('/content/Customers.csv')\n",
        "products = pd.read_csv('/content/Products.csv')\n",
        "transactions = pd.read_csv('/content/Transactions.csv')"
      ],
      "metadata": {
        "id": "p-3FVzxTcpjI"
      },
      "execution_count": 2,
      "outputs": []
    },
    {
      "cell_type": "code",
      "source": [
        "# Preprocess the datasets\n",
        "customers['SignupDate'] = pd.to_datetime(customers['SignupDate'])\n",
        "transactions['TransactionDate'] = pd.to_datetime(transactions['TransactionDate'])\n",
        "\n",
        "# Aggregate transaction data to create customer-level features\n",
        "transaction_features = transactions.groupby('CustomerID').agg(\n",
        "    TotalSpend=('TotalValue', 'sum'),\n",
        "    TotalQuantity=('Quantity', 'sum'),\n",
        "    UniqueProducts=('ProductID', 'nunique'),\n",
        "    AvgTransactionValue=('TotalValue', 'mean'),\n",
        "    TotalTransactions=('TransactionID', 'count')\n",
        ").reset_index()\n",
        "\n",
        "# Merge customer features with the customer profile data\n",
        "customer_data = pd.merge(customers, transaction_features, on='CustomerID', how='left')\n",
        "\n",
        "# Fill missing values for customers with no transactions\n",
        "customer_data.fillna({\n",
        "    'TotalSpend': 0,\n",
        "    'TotalQuantity': 0,\n",
        "    'UniqueProducts': 0,\n",
        "    'AvgTransactionValue': 0,\n",
        "    'TotalTransactions': 0\n",
        "}, inplace=True)\n",
        "\n",
        "\n",
        "customer_data = pd.get_dummies(customer_data, columns=['Region'], drop_first=True)\n",
        "\n",
        "\n",
        "numerical_features = ['TotalSpend', 'TotalQuantity', 'UniqueProducts', 'AvgTransactionValue', 'TotalTransactions']\n",
        "scaler = StandardScaler()\n",
        "customer_data[numerical_features] = scaler.fit_transform(customer_data[numerical_features])\n",
        "\n",
        "# Calculate pairwise similarity using Cosine Similarity\n",
        "similarity_features = customer_data.drop(columns=['CustomerID', 'CustomerName', 'SignupDate'])\n",
        "similarity_matrix = cosine_similarity(similarity_features)\n",
        "\n",
        "#Find the top 3 most similar customers for each customer\n",
        "lookalikes = {}\n",
        "for idx, row in enumerate(similarity_matrix):\n",
        "    similar_indices = row.argsort()[-4:-1][::-1]  # Top 3 excluding itself\n",
        "    similar_customers = [\n",
        "        (customer_data['CustomerID'].iloc[i], round(row[i], 3)) for i in similar_indices\n",
        "    ]\n",
        "    lookalikes[customer_data['CustomerID'].iloc[idx]] = similar_customers\n",
        "\n",
        "# Filter results for CustomerID C0001 to C0020\n",
        "lookalike_subset = {k: v for k, v in lookalikes.items() if k in customer_data['CustomerID'][:20].values}\n",
        "\n",
        "# Prepare output for \"Lookalike.csv\"\n",
        "output = []\n",
        "for cust_id, similar_list in lookalike_subset.items():\n",
        "    output.append({\n",
        "        'CustomerID': cust_id,\n",
        "        'SimilarCustomers': similar_list\n",
        "    })\n",
        "\n",
        "# Convert to a DataFrame and save as CSV\n",
        "lookalike_df = pd.DataFrame(output)\n",
        "lookalike_df.to_csv('Lookalike.csv', index=False)\n",
        "\n",
        "print(\"Lookalike.csv has been successfully generated!\")\n"
      ],
      "metadata": {
        "colab": {
          "base_uri": "https://localhost:8080/"
        },
        "id": "3IWh22smcLEv",
        "outputId": "506b4e2d-3108-4969-8360-9f585ce37e11"
      },
      "execution_count": null,
      "outputs": [
        {
          "output_type": "stream",
          "name": "stdout",
          "text": [
            "Lookalike.csv has been successfully generated!\n"
          ]
        }
      ]
    },
    {
      "cell_type": "code",
      "source": [],
      "metadata": {
        "id": "Ut17GIBxcVfw"
      },
      "execution_count": null,
      "outputs": []
    }
  ]
}